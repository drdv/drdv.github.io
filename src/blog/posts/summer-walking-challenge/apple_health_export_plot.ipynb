{
 "cells": [
  {
   "cell_type": "markdown",
   "id": "4867dd4b-032b-4430-a746-1d797456384b",
   "metadata": {},
   "source": [
    "## Visualize my walking data from my iphone's health app."
   ]
  },
  {
   "cell_type": "code",
   "execution_count": null,
   "id": "658d669b-0bc5-4cb3-8133-4c4c1c4a9583",
   "metadata": {},
   "outputs": [],
   "source": [
    "import sys\n",
    "sys.path.append(\".\")    \n",
    "\n",
    "from utils import HealthData"
   ]
  },
  {
   "cell_type": "code",
   "execution_count": null,
   "id": "5e09377c-dc91-4bab-b659-a95c8cf1c102",
   "metadata": {},
   "outputs": [],
   "source": [
    "if False:\n",
    "    # Running this is not necessary unless I need to take into\n",
    "    # account new data (then it should be exported from my iphone).\n",
    "    h = HealthData(load_from_iphone=True)\n",
    "    h.save_clean_data()\n",
    "else:\n",
    "    # The data for my summer challenge is exported in data/export_clean.csv\n",
    "    # and can be loaded here\n",
    "    h = HealthData()"
   ]
  },
  {
   "cell_type": "code",
   "execution_count": null,
   "id": "444658a7-b45d-4d6e-8bcf-4a34bc3afa0e",
   "metadata": {},
   "outputs": [],
   "source": [
    "h.show(\"dist km\")"
   ]
  },
  {
   "cell_type": "code",
   "execution_count": null,
   "id": "fd324ad1-5dac-46a2-a3b6-bbdac3b6cb5c",
   "metadata": {},
   "outputs": [],
   "source": [
    "h.show(\"step count\")"
   ]
  }
 ],
 "metadata": {
  "kernelspec": {
   "display_name": "Python 3 (ipykernel)",
   "language": "python",
   "name": "python3"
  },
  "language_info": {
   "codemirror_mode": {
    "name": "ipython",
    "version": 3
   },
   "file_extension": ".py",
   "mimetype": "text/x-python",
   "name": "python",
   "nbconvert_exporter": "python",
   "pygments_lexer": "ipython3",
   "version": "3.12.2"
  }
 },
 "nbformat": 4,
 "nbformat_minor": 5
}
